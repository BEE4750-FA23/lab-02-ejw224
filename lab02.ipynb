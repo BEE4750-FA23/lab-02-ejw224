{
  "cells": [
    {
      "cell_type": "markdown",
      "metadata": {},
      "source": [
        "# BEE 4750 Lab 2: Uncertainty and Monte Carlo"
      ],
      "id": "306eb3d1-9945-48d8-82d1-04a6ca9c69c1"
    },
    {
      "cell_type": "markdown",
      "metadata": {},
      "source": [
        "**Name**:\n",
        "\n",
        "**ID**:"
      ],
      "id": "db684064-e58d-4394-87ef-2d0798f7fc9e"
    },
    {
      "cell_type": "markdown",
      "metadata": {},
      "source": [
        "> **Due Date**\n",
        ">\n",
        "> Friday, 9/22/23, 9:00pm\n",
        "\n",
        "## Setup\n",
        "\n",
        "The following code should go at the top of most Julia scripts; it will\n",
        "load the local package environment and install any needed packages. You\n",
        "will see this often and shouldn’t need to touch it."
      ],
      "id": "71570f82-e5eb-4860-b30b-329977b6c5a4"
    },
    {
      "cell_type": "code",
      "execution_count": 1,
      "metadata": {},
      "outputs": [],
      "source": [
        "import Pkg\n",
        "Pkg.activate(\".\")\n",
        "Pkg.instantiate()"
      ],
      "id": "4f0ac0b5"
    },
    {
      "cell_type": "code",
      "execution_count": 2,
      "metadata": {},
      "outputs": [],
      "source": [
        "using Random # random number generation\n",
        "using Distributions # probability distributions and interface\n",
        "using Statistics # basic statistical functions, including mean\n",
        "using Plots # plotting"
      ],
      "id": "737e517c"
    },
    {
      "cell_type": "markdown",
      "metadata": {},
      "source": [
        "## Introduction\n",
        "\n",
        "In this lab, you will use Monte Carlo analysis to estimate the expected\n",
        "winnings for a couple of different games of chance.\n",
        "\n",
        "Monte Carlo methods involve the simulation of random numbers from\n",
        "probability distributions. In an environmental context, we often\n",
        "propagate these random numbers through some more complicated model and\n",
        "then compute a resulting statistic which is relevant for assessing\n",
        "performance or risk, such as an average outcome or a particular\n",
        "quantile.\n",
        "\n",
        "Julia provides a common interface for probability distributions with the\n",
        "[`Distributions.jl`\n",
        "package](https://juliastats.org/Distributions.jl/stable/). The basic\n",
        "workflow for sampling from a distribution is:\n",
        "\n",
        "1.  Set up the distribution. The specific syntax depends on the\n",
        "    distribution and what parameters are required, but the general call\n",
        "    is the similar. For a normal distribution or a uniform distribution,\n",
        "    the syntax is\n",
        "\n",
        "    ``` julia\n",
        "    # you don't have to name this \"normal_distribution\"\n",
        "    # μ is the mean and σ is the standard deviation\n",
        "    normal_distribution = Normal(μ, σ)\n",
        "    # a is the upper bound and b is the lower bound; these can be set to +Inf or -Inf for an unbounded distribution in one or both directions.\n",
        "    uniform_distribution = Uniform(a, b)\n",
        "    ```\n",
        "\n",
        "    There are lots of both\n",
        "    [univariate](https://juliastats.org/Distributions.jl/stable/univariate/#Index)\n",
        "    and\n",
        "    [multivariate](https://juliastats.org/Distributions.jl/stable/multivariate/)\n",
        "    distributions, as well as the ability to create your own, but we\n",
        "    won’t do anything too exotic here.\n",
        "\n",
        "2.  Draw samples. This uses the `rand()` command (which, when used\n",
        "    without a distribution, just samples uniformly from the interval\n",
        "    $[0, 1]$.) For example, to sample from our normal distribution\n",
        "    above:\n",
        "\n",
        "    ``` julia\n",
        "    # draw n samples\n",
        "    rand(normal_distribution, n)\n",
        "    ```\n",
        "\n",
        "Putting this together, let’s say that we wanted to simulate 100\n",
        "six-sided dice rolls. We could use a [Discrete Uniform\n",
        "distribution](https://juliastats.org/Distributions.jl/stable/univariate/#Distributions.DiscreteUniform)."
      ],
      "id": "0d12239f-d2f8-42b0-b7fd-75f385a46edf"
    },
    {
      "cell_type": "code",
      "execution_count": 3,
      "metadata": {},
      "outputs": [
        {
          "output_type": "display_data",
          "metadata": {},
          "data": {
            "text/plain": [
              "100-element Vector{Int64}:\n",
              " 2\n",
              " 2\n",
              " 1\n",
              " 3\n",
              " 6\n",
              " 4\n",
              " 6\n",
              " 2\n",
              " 6\n",
              " 2\n",
              " 2\n",
              " 4\n",
              " 1\n",
              " ⋮\n",
              " 6\n",
              " 5\n",
              " 2\n",
              " 6\n",
              " 3\n",
              " 1\n",
              " 2\n",
              " 3\n",
              " 6\n",
              " 3\n",
              " 4\n",
              " 1"
            ]
          }
        }
      ],
      "source": [
        "dice_dist = DiscreteUniform(1, 6) # can generate any integer between 1 and 6\n",
        "dice_rolls = rand(dice_dist, 100) # simulate rolls"
      ],
      "id": "6df35e38"
    },
    {
      "cell_type": "markdown",
      "metadata": {},
      "source": [
        "And then we can plot a histogram of these rolls:"
      ],
      "id": "81ca75e0-9492-432f-af9f-2850c771bf8a"
    },
    {
      "cell_type": "code",
      "execution_count": 4,
      "metadata": {},
      "outputs": [
        {
          "output_type": "display_data",
          "metadata": {},
          "data": {
            "text/html": [
              "<img src=\"data:image/png;base64,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\" />"
            ]
          }
        }
      ],
      "source": [
        "histogram(dice_rolls, legend=:false, bins=6)\n",
        "ylabel!(\"Count\")\n",
        "xlabel!(\"Dice Value\")"
      ],
      "id": "3d5027a6"
    },
    {
      "cell_type": "markdown",
      "metadata": {},
      "source": [
        "**Remember to**:\n",
        "\n",
        "-   Evaluate all of your code cells, in order (using a `Run All`\n",
        "    command). This will make sure all output is visible and that the\n",
        "    code cells were evaluated in the correct order.\n",
        "-   Tag each of the problems when you submit to Gradescope; a 10%\n",
        "    penalty will be deducted if this is not done."
      ],
      "id": "23bd9cbb-2c7d-46f9-88cc-93b3e4e41daf"
    },
    {
      "cell_type": "markdown",
      "metadata": {},
      "source": [
        "## Exercises (10 points)\n",
        "\n",
        "In Problem 1, you will compute the probability of getting a specific\n",
        "combination of multiple dice rolls. The focus will be on understanding\n",
        "how the Monte Carlo estimate changes based on the number of simulations.\n",
        "\n",
        "In Problem 2, we will implement the culmination of every episode of the\n",
        "long-running game show [The Price Is\n",
        "Right](https://en.wikipedia.org/wiki/The_Price_Is_Right): the\n",
        "[Showcase](https://en.wikipedia.org/wiki/The_Price_Is_Right#Showcase).\n",
        "You will be asked to make a plot of expected winnings by bid for a\n",
        "particular distribution of prize values.\n",
        "\n",
        "You should always start any computing with random numbers by setting a\n",
        "“seed,” which controls the sequence of numbers which are generated\n",
        "(since these are not *really* random, just “pseudorandom”). In Julia, we\n",
        "do this with the `Random.seed!()` function.\n",
        "\n",
        "``` julia\n",
        "Random.seed!(1)\n",
        "```\n",
        "\n",
        "    TaskLocalRNG()\n",
        "\n",
        "It doesn’t matter what seed you set, though different seeds might result\n",
        "in slightly different values. But setting a seed means every time your\n",
        "notebook is run, the answer will be the same.\n",
        "\n",
        "> **Seeds and Reproducing Solutions**\n",
        ">\n",
        "> If you don’t re-run your code in the same order or if you re-run the\n",
        "> same cell repeatedly, you will not get the same solution. If you’re\n",
        "> working on a specific problem, you might want to re-use\n",
        "> `Random.seed()` near any block of code you want to re-evaluate\n",
        "> repeatedly."
      ],
      "id": "218cf6cc-7fe8-4dc4-8213-59baaccba1be"
    },
    {
      "cell_type": "markdown",
      "metadata": {},
      "source": [
        "### Problem 1 (5 points)\n",
        "\n",
        "We want to know the probability of getting at least an 11 from rolling\n",
        "three fair, six-sided dice (this is actually an old Italian game called\n",
        "*passadieci*, which was analyzed by Galileo as one of the first examples\n",
        "of a rigorous study of probability)."
      ],
      "id": "6e052b50-1dcc-4bae-a293-61193398c1f0"
    },
    {
      "cell_type": "markdown",
      "metadata": {},
      "source": [
        "#### Problem 1.1 (1 point)\n",
        "\n",
        "Write a function called `passadieci()` to simulate this game, which will\n",
        "take as an input the number of realizations and output a vector of the\n",
        "sum of the three dice rolls for each realization."
      ],
      "id": "cc3b211c-a3d0-4b4d-afd9-99c75fe9bbda"
    },
    {
      "cell_type": "markdown",
      "metadata": {},
      "source": [
        "### Problem 1.2 (2 points)\n",
        "\n",
        "Generate 5,000 simulations of the game using your `passadieci()`\n",
        "function. Plot how the computed probability of winning the game changes\n",
        "as the number of simulations increases (you can do this by computing the\n",
        "frequency of wins for each additional simulation)."
      ],
      "id": "21365850-eb26-44db-bc20-7e78b8d3bb36"
    },
    {
      "cell_type": "markdown",
      "metadata": {},
      "source": [
        "### Problem 1.3 (2 point)\n",
        "\n",
        "Based on your plot from Problem 1.2, how many simulations were needed\n",
        "for the win probability estimate to converge? What did you notice from\n",
        "your plot about the estimates prior to convergence?"
      ],
      "id": "95c1d7aa-9757-4d21-8850-b38b62058ea6"
    },
    {
      "cell_type": "markdown",
      "metadata": {},
      "source": [
        "## Problem 2 (5 points)\n",
        "\n",
        "The Showcase is the final round of every episode of The Price is Right,\n",
        "matching the two big winners from the episode. Each contestant is shown\n",
        "a “showcase” of prizes, which are usually some combination of a trip, a\n",
        "motor vehicle, some furniture, and maybe some other stuff. They then\n",
        "each have to make a bid on the retail price of the showcase. The rules\n",
        "are:\n",
        "\n",
        "-   an overbid is an automatic loss;\n",
        "-   the contest who gets closest to the retail price wins their\n",
        "    showcase;\n",
        "-   if a contestant gets within \\$250 of the retail price and is closer\n",
        "    than their opponent, they win both showcases.\n",
        "\n",
        "Your goal is to find a wager which maximizes your expected winnings,\n",
        "which we may as well call utility, based on your assessment of the\n",
        "probability of your showcase retail price. We’ll assume that the\n",
        "distribution of all showcases offered by the show is given as truncated\n",
        "normal distribution, which means a normal distribution which has an\n",
        "upper and/or lower bound. `Distributions.jl` makes it easy to specify\n",
        "truncations on any distribution, not just normal distributions. For\n",
        "example, we’ll use this distribution for the showcase values:\n",
        "\n",
        "``` julia\n",
        "showcase_dist = truncated(Normal(31000, 4500), lower=5000, upper=42000)\n",
        "```\n",
        "\n",
        "    Truncated(Normal{Float64}(μ=31000.0, σ=4500.0); lower=5000.0, upper=42000.0)"
      ],
      "id": "a053f5ee-4017-497c-8477-f8880fa7aacc"
    },
    {
      "cell_type": "markdown",
      "metadata": {},
      "source": [
        "#### Problem 2.1 (3 points)\n",
        "\n",
        "Write a function `showcase()` which takes in a bid value and uses Monte\n",
        "Carlo simulation to compute the expected value of the winnings. Make the\n",
        "following assumptions about your expected winnings if you don’t overbid:\n",
        "\n",
        "-   If you win both showcases, the value is the double of the single\n",
        "    showcase value.\n",
        "-   If you did not win both showcases but bid under the showcase value,\n",
        "    the probability of being outbid increases linearly as the distance\n",
        "    between your bid and the value increases (in other words, if you bid\n",
        "    the exact value, you win with probability 1, and if you bid \\$0, you\n",
        "    win with probability 0).\n",
        "\n",
        "How did you decide how many samples to use within the function?"
      ],
      "id": "9e7a52dd-4ea1-4ff3-9c3e-5f67b4004987"
    },
    {
      "cell_type": "markdown",
      "metadata": {},
      "source": [
        "#### Problem 2.2 (2 points)\n",
        "\n",
        "Plot the expected winnings for bids ranging from \\$0 to \\$42,000. What\n",
        "do you notice?"
      ],
      "id": "c7ae893b-cbdb-4e00-a59c-635a017b1d3e"
    },
    {
      "cell_type": "markdown",
      "metadata": {},
      "source": [
        "## References\n",
        "\n",
        "Put any consulted sources here, including classmates you worked with/who\n",
        "helped you."
      ],
      "id": "91d7de19-ab9b-4c87-8423-82b88c591a50"
    }
  ],
  "nbformat": 4,
  "nbformat_minor": 5,
  "metadata": {
    "kernelspec": {
      "name": "julia-1.9",
      "display_name": "Julia 1.9.3",
      "language": "julia"
    },
    "language_info": {
      "name": "julia",
      "file_extension": ".jl",
      "mimetype": "application/julia",
      "version": "1.9.3"
    }
  }
}